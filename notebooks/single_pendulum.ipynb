{
 "cells": [
  {
   "cell_type": "markdown",
   "metadata": {},
   "source": [
    "# Physics of a single pendulum\n",
    "\n",
    "The goal of this notebook is to familiarise ourselves with calculations of\n",
    "motion of a single pendulum of length l, and mass m.\n",
    "\n",
    "The following assumptions are made about the pendulum:\n",
    "* The cord holding the mass is infinitely thin, rigid and without mass\n",
    "* The mass is focused in a single point at the end of the cord\n",
    "* There is no damping force (air resistance, friction)\n",
    "* Motion is in the $Oxy$ plane"
   ]
  },
  {
   "cell_type": "markdown",
   "metadata": {},
   "source": [
    "## Determining the differential equations of motion\n",
    "\n",
    "To find the differential equations, we will be using `SymPy`, and it's\n",
    "`sympy.physics.mechanics` module. To do that, we must first import it:"
   ]
  },
  {
   "cell_type": "markdown",
   "metadata": {
    "pycharm": {
     "name": "#%% md\n"
    }
   },
   "source": [
    "# The motion of a single pendulum"
   ]
  },
  {
   "cell_type": "code",
   "execution_count": 25,
   "metadata": {
    "pycharm": {
     "is_executing": false,
     "name": "#%%\n"
    }
   },
   "outputs": [],
   "source": [
    "from sympy.physics import mechanics\n",
    "import sympy as sym\n",
    "import numpy as np\n",
    "from scipy.integrate import odeint\n",
    "import matplotlib.pyplot as plt"
   ]
  },
  {
   "cell_type": "markdown",
   "metadata": {
    "pycharm": {
     "name": "#%% md\n"
    }
   },
   "source": [
    "### The free-body diagram\n",
    "\n",
    "The pendulum hangs at the end of a cord of length $l$.\n",
    "Since the cord cannot be extended, bent, or contracted, we know that it's\n",
    "length is constant.\n",
    "\n",
    "That means the center of mass is on a circle with radius $l$, and the center\n",
    "of the circle is at the pivot.\n",
    "\n",
    "The reference frame we'll use uses the pivot as the origin $O$, the $Oy$ axis\n",
    "will be directed _downwards_ (toward the pendulum's equilibrium position), and\n",
    "the $Ox$ axis will be $90^{\\circ}$ counter-clockwise from the $Oy$ axis."
   ]
  },
  {
   "cell_type": "markdown",
   "metadata": {
    "pycharm": {
     "name": "#%% md\n"
    }
   },
   "source": [
    "This way, we can express the position of the pendulum, $P(x, y)$ using polar\n",
    "coordinates with radius $l$ and some angle $\\theta$, which we'll define as\n",
    "the angle between the vector $\\vec{OP}$ and the $Oy$ axis:\n",
    "\\begin{equation*}\n",
    "(x, y) = (l \\cos \\theta, l \\sin \\theta)\n",
    "\\end{equation*}\n",
    "\n",
    "Since the cord's length $l$ is a property of the pendulum, we have a single\n",
    "degree of freedom, and that is the angle $\\theta$.\n",
    "\n",
    "Along with the length and the initial angle, $\\theta_0$, we also need to know\n",
    "the mass of the pendulum $m$, and these are our initial conditions (with the\n",
    "length and mass being specific to the pendulum, and thus constant)."
   ]
  },
  {
   "cell_type": "code",
   "execution_count": 26,
   "metadata": {
    "pycharm": {
     "is_executing": false,
     "name": "#%%\n"
    }
   },
   "outputs": [],
   "source": [
    "m = sym.Symbol('m')\n",
    "l = sym.Symbol('l')"
   ]
  },
  {
   "cell_type": "markdown",
   "metadata": {
    "pycharm": {
     "name": "#%% md\n"
    }
   },
   "source": [
    "Now we'll also define some required symbols, namely $g$, which is the\n",
    "gravitational acceleration, and $t$, which stands for time"
   ]
  },
  {
   "cell_type": "code",
   "execution_count": 27,
   "metadata": {
    "pycharm": {
     "is_executing": false,
     "name": "#%%\n"
    }
   },
   "outputs": [],
   "source": [
    "g, t = sym.symbols('g t')"
   ]
  },
  {
   "cell_type": "markdown",
   "metadata": {
    "pycharm": {
     "name": "#%% md\n"
    }
   },
   "source": [
    "Next, we define the angle $\\theta$ and the angular speed $\\omega$.\n",
    "Note that $\\omega$ is the time derivative of the angle $\\theta$.\n",
    "We will establish this connection later in the code."
   ]
  },
  {
   "cell_type": "code",
   "execution_count": 28,
   "metadata": {
    "pycharm": {
     "is_executing": false,
     "name": "#%%\n"
    }
   },
   "outputs": [],
   "source": [
    "theta, omega = mechanics.dynamicsymbols('theta omega')\n",
    "d_theta, d_omega = mechanics.dynamicsymbols('theta omega', level=1)"
   ]
  },
  {
   "cell_type": "markdown",
   "metadata": {
    "pycharm": {
     "name": "#%% md\n"
    }
   },
   "source": [
    "Now we create the reference frame:"
   ]
  },
  {
   "cell_type": "code",
   "execution_count": 29,
   "metadata": {
    "pycharm": {
     "is_executing": false,
     "name": "#%%\n"
    }
   },
   "outputs": [],
   "source": [
    "Oxy = mechanics.ReferenceFrame('Oxy')\n",
    "O = mechanics.Point('O')  # pivot\n",
    "\n",
    "# since the pivot is constant in the frame Oxy, we set it's velocity to 0\n",
    "O.set_vel(Oxy, 0)\n",
    "\n",
    "# We create the local coordinate system of the pendulum (A) with the same center\n",
    "# However, we rotate it so that it's Ay axis is in the direction of the pendulum\n",
    "A = Oxy.orientnew('A', rot_type='axis', amounts=[theta, Oxy.z])\n",
    "\n",
    "# Now we specify the location of the pendulum\n",
    "P = O.locatenew('P', l * A.y)\n",
    "# And create its particle (of mass m)\n",
    "particleP = mechanics.Particle('paP', P, m)"
   ]
  },
  {
   "cell_type": "markdown",
   "metadata": {},
   "source": [
    "Now we specify the kinematic differential equations: here we tell `SymPy` that\n",
    "the angular speed is the time derivative of the angle.\n",
    "\n",
    "We do this by specifying the equation:\n",
    "\n",
    "\\begin{equation*}\n",
    "\\frac{d \\theta}{d t} - \\omega = 0\n",
    "\\end{equation*}"
   ]
  },
  {
   "cell_type": "code",
   "execution_count": 30,
   "metadata": {
    "pycharm": {
     "is_executing": false,
     "name": "#%%\n"
    }
   },
   "outputs": [],
   "source": [
    "kde = d_theta - omega\n",
    "kde_dict = { d_theta: omega }"
   ]
  },
  {
   "cell_type": "markdown",
   "metadata": {},
   "source": [
    "Now we start registering the velocities and registering forces.\n",
    "The only force is gravity, pulling \"downwards\" (towards $Oy$), with the\n",
    "intensity $mg$.\n",
    "\n",
    "We will specify angular velocity by rotating the local coordinate system,\n",
    "and keeping $P$ fixed."
   ]
  },
  {
   "cell_type": "code",
   "execution_count": 31,
   "metadata": {
    "collapsed": true,
    "pycharm": {
     "is_executing": false,
     "name": "#%%\n"
    }
   },
   "outputs": [],
   "source": [
    "F = m * g * Oxy.y\n",
    "\n",
    "A.set_ang_vel(Oxy, omega * Oxy.z)\n",
    "P.v2pt_theory(O, Oxy, A);"
   ]
  },
  {
   "cell_type": "markdown",
   "metadata": {},
   "source": [
    "With this, we have fully described the motion diagram, and will now instruct\n",
    "`SymPy` to generate the ordinary differential equations (ODEs), which we can\n",
    "later solve numerically using `scipy`."
   ]
  },
  {
   "cell_type": "code",
   "execution_count": 32,
   "metadata": {
    "jupyter": {
     "outputs_hidden": false
    },
    "pycharm": {
     "is_executing": false,
     "name": "#%%\n"
    }
   },
   "outputs": [],
   "source": [
    "KM = mechanics.KanesMethod(Oxy, q_ind=[theta], u_ind=[omega],\n",
    "                           kd_eqs=[kde])\n",
    "(fr, frstar) = KM.kanes_equations([particleP], [(P, F)])"
   ]
  },
  {
   "cell_type": "markdown",
   "metadata": {},
   "source": [
    "We can now generate the ODEs and display them:"
   ]
  },
  {
   "cell_type": "code",
   "execution_count": 33,
   "metadata": {
    "pycharm": {
     "is_executing": false,
     "name": "#%%\n"
    }
   },
   "outputs": [
    {
     "data": {
      "text/plain": "Matrix([[-g*sin(theta(t))/l]])",
      "text/latex": "$\\displaystyle \\left[\\begin{matrix}- \\frac{g \\sin{\\left(\\theta{\\left(t \\right)} \\right)}}{l}\\end{matrix}\\right]$"
     },
     "metadata": {},
     "output_type": "execute_result",
     "execution_count": 33
    }
   ],
   "source": [
    "MM = KM.mass_matrix\n",
    "forcing = KM.forcing\n",
    "rhs = MM.inv() * forcing\n",
    "kdd = KM.kindiffdict()\n",
    "rhs = rhs.subs(kdd)\n",
    "rhs.simplify()\n",
    "rhs"
   ]
  },
  {
   "cell_type": "markdown",
   "source": [
    "In order to use the result to calculate the motion, the process is a bit\n",
    "different:"
   ],
   "metadata": {
    "collapsed": false
   }
  },
  {
   "cell_type": "code",
   "execution_count": 34,
   "outputs": [],
   "source": [
    "parameters = [g, l, m]\n",
    "\n",
    "unknowns = [sym.Dummy() for i in [theta, omega]]\n",
    "unknown_dict = { theta: unknowns[0], omega: unknowns[1] }\n",
    "kds = KM.kindiffdict()\n",
    "mm_full_symbols = KM.mass_matrix_full.subs(kds).subs(unknown_dict)\n",
    "fo_full_symbols = KM.forcing_full.subs(kds).subs(unknown_dict)\n",
    "\n",
    "mm_func = sym.lambdify(unknowns+parameters, mm_full_symbols, 'numpy')\n",
    "fo_func = sym.lambdify(unknowns+parameters, fo_full_symbols, 'numpy')\n",
    "\n",
    "def gradient(y, t, args):\n",
    "    vals = np.concatenate((y, args))\n",
    "    sol = np.linalg.solve(mm_func(*vals), fo_func(*vals))\n",
    "    return np.array(sol).T[0]"
   ],
   "metadata": {
    "collapsed": false,
    "pycharm": {
     "name": "#%%\n",
     "is_executing": false
    }
   }
  },
  {
   "cell_type": "markdown",
   "source": [
    "## Calculating and displaying the results"
   ],
   "metadata": {
    "collapsed": false
   }
  },
  {
   "cell_type": "markdown",
   "source": [
    "In order to display the results, we will need to get the $x$ and $y$\n",
    "coordinates from the length and angle."
   ],
   "metadata": {
    "collapsed": false,
    "pycharm": {
     "name": "#%% md\n"
    }
   }
  },
  {
   "cell_type": "code",
   "execution_count": 35,
   "outputs": [],
   "source": [
    "def get_xy_coords(cord_length, angles):\n",
    "    x = np.sin(angles-np.pi) * cord_length\n",
    "    y = -np.cos(angles) * cord_length\n",
    "    return x, y"
   ],
   "metadata": {
    "collapsed": false,
    "pycharm": {
     "name": "#%%\n",
     "is_executing": false
    }
   }
  },
  {
   "cell_type": "code",
   "execution_count": 36,
   "outputs": [
    {
     "data": {
      "text/plain": "[<matplotlib.lines.Line2D at 0x7efe5c6b4110>]"
     },
     "metadata": {},
     "output_type": "execute_result",
     "execution_count": 36
    },
    {
     "data": {
      "text/plain": "<Figure size 432x288 with 1 Axes>",
      "image/png": "[encoded data removed]"
     },
     "metadata": {
      "needs_background": "light"
     },
     "output_type": "display_data"
    }
   ],
   "source": [
    "mass = 1.0\n",
    "times = np.linspace(0, 0.6, 100)\n",
    "length = 1.0\n",
    "initial_angle = np.deg2rad(-45)\n",
    "initial_speed = 0.01\n",
    "angles = odeint(gradient, [initial_angle, initial_speed], times,\n",
    "                args=([9.81, length, mass],))\n",
    "x, y = get_xy_coords(length, angles[:,0])\n",
    "plt.plot(x,y)\n"
   ],
   "metadata": {
    "collapsed": false,
    "pycharm": {
     "name": "#%%\n",
     "is_executing": false
    }
   }
  }
 ],
 "metadata": {
  "kernelspec": {
   "display_name": "Python 3",
   "language": "python",
   "name": "python3"
  },
  "language_info": {
   "codemirror_mode": {
    "name": "ipython",
    "version": 3
   },
   "file_extension": ".py",
   "mimetype": "text/x-python",
   "name": "python",
   "nbconvert_exporter": "python",
   "pygments_lexer": "ipython3",
   "version": "3.7.6"
  },
  "pycharm": {
   "stem_cell": {
    "cell_type": "raw",
    "source": [],
    "metadata": {
     "collapsed": false
    }
   }
  }
 },
 "nbformat": 4,
 "nbformat_minor": 4
}